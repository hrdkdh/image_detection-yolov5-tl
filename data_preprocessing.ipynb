{
 "cells": [
  {
   "cell_type": "code",
   "execution_count": 67,
   "metadata": {},
   "outputs": [],
   "source": [
    "import os\n",
    "import cv2\n",
    "import json\n",
    "import tqdm\n",
    "import shutil\n",
    "import pandas as pd\n",
    "\n",
    "root_path = r\"E:\\aihub_safety_dataset\\\\\"\n",
    "label_path = root_path+r\"Training_unziped\\label_factory_org\\\\\"\n",
    "label_mod_path = root_path+r\"Training_unziped\\label_factory_mod\\\\\"\n",
    "img_path = root_path+r\"Training_unziped\\image_factory\\\\\"\n",
    "training_dataset_path = root_path+r\"Training_unziped\\training_dataset\\\\\"\n",
    "validation_dataset_path = root_path+r\"Training_unziped\\validation_dataset\\\\\"\n",
    "label_file_list = os.listdir(label_path)"
   ]
  },
  {
   "cell_type": "markdown",
   "metadata": {},
   "source": [
    "1. 이미지와 바운딩 박스 확인"
   ]
  },
  {
   "cell_type": "code",
   "execution_count": 70,
   "metadata": {},
   "outputs": [],
   "source": [
    "class_number_filter = [\"01\", \"02\", \"03\", \"04\", \"05\", \"06\", \"07\", \"08\"]\n",
    "for idx, label in enumerate(label_file_list):\n",
    "    if idx < 50:\n",
    "        json_str = open(label_path + label, \"r\").readlines()\n",
    "        json_str = \"\".join(json_str)\n",
    "        json_data = json.loads(json_str)\n",
    "        bbox_infos = [x for x in json_data[\"annotations\"] if x[\"class\"] in class_number_filter]\n",
    "        if len(bbox_infos) > 0:\n",
    "            img = cv2.imread(img_path + json_data[\"image\"][\"filename\"])\n",
    "            for bbox in bbox_infos:\n",
    "                if \"box\" in bbox:\n",
    "                    cv2.rectangle(img, bbox[\"box\"][:2], bbox[\"box\"][2:4], (0, 255, 0), 2)\n",
    "                    cv2.putText(img, bbox[\"class\"], bbox[\"box\"][:2], cv2.FONT_HERSHEY_DUPLEX, 1, (0, 255, 0))\n",
    "            cv2.imshow(\"img\", img)\n",
    "            cv2.waitKey()\n",
    "            cv2.destroyAllWindows()"
   ]
  },
  {
   "cell_type": "markdown",
   "metadata": {},
   "source": [
    "2. 안전장구가 있는 이미지만 필터링 하고 라벨링 txt 파일 생성"
   ]
  },
  {
   "cell_type": "code",
   "execution_count": null,
   "metadata": {},
   "outputs": [],
   "source": [
    "label_made = []\n",
    "label_not_made = []\n",
    "class_number_filter = [\"01\", \"02\", \"04\", \"05\", \"06\", \"07\", \"08\"] #03은 폴리곤으로 되어 있어 03은 제거함\n",
    "class_number_name = [\"belt\", \"no belt\", \"gori not fasten\", \"footgear\", \"no footgear\", \"helmet\", \"no helmet\"]\n",
    "class_info = [] \n",
    "for idx, class_number in enumerate(class_number_filter):\n",
    "    class_info.append({\"class_no\" : str(idx), \"class_org_no\" : class_number, \"class_name\" : class_number_name[idx], \"image_cnt\" : 0})\n",
    "\n",
    "for idx, label in enumerate(label_file_list):\n",
    "    print(\"{} : 변환중...({:.2f}%)   \".format(label, ((idx+1)/len(label_file_list))*100), end=\"\\r\")\n",
    "    json_str = open(label_path + label, \"r\", encoding=\"utf-8\").readlines()\n",
    "    json_str = \"\".join(json_str)\n",
    "    json_data = json.loads(json_str)\n",
    "\n",
    "    w = json_data[\"image\"][\"resolution\"][0]\n",
    "    h = json_data[\"image\"][\"resolution\"][1]\n",
    "    bbox_infos = [x for x in json_data[\"annotations\"] if x[\"class\"] in class_number_filter]\n",
    "    if len(bbox_infos) > 0:\n",
    "        label_str = \"\"\n",
    "        for bbox in bbox_infos:\n",
    "            if \"box\" in bbox:\n",
    "                bb_center_x = bbox[\"box\"][0] + ((bbox[\"box\"][2] - bbox[\"box\"][0])/2)\n",
    "                bb_center_y = bbox[\"box\"][1] + ((bbox[\"box\"][3] - bbox[\"box\"][1])/2)\n",
    "                bb_w = bbox[\"box\"][2] - bbox[\"box\"][0]\n",
    "                bb_h = bbox[\"box\"][3] - bbox[\"box\"][1]\n",
    "                bb_w_scaled = bb_w/w\n",
    "                bb_h_scaled = bb_h/h\n",
    "                bb_center_x_scaled = bb_center_x/w\n",
    "                bb_center_y_scaled = bb_center_y/h\n",
    "                new_class_no = [x[\"class_no\"] for x in class_info if x[\"class_org_no\"] == bbox[\"class\"]][0]\n",
    "                class_info_idx = [idx for idx, x in enumerate(class_info) if x[\"class_org_no\"] == bbox[\"class\"]][0]\n",
    "                label_str += \"{}\\t{}\\t{}\\t{}\\t{}\\n\".format(new_class_no, bb_center_x_scaled, bb_center_y_scaled, bb_w_scaled, bb_h_scaled)\n",
    "                class_info[class_info_idx][\"image_cnt\"] = class_info[class_info_idx][\"image_cnt\"] + 1\n",
    "        if label_str != \"\":\n",
    "            label_made.append(json_data[\"image\"][\"filename\"])\n",
    "            label_str = label_str[:-2]\n",
    "            open(label_mod_path + json_data[\"image\"][\"filename\"].split(\".\")[0] + \".txt\", \"w\").write(label_str)\n",
    "        else:\n",
    "            label_not_made.append(json_data[\"image\"][\"filename\"])\n",
    "    else:\n",
    "        label_not_made.append(json_data[\"image\"][\"filename\"])\n",
    "\n",
    "df_class_info = pd.DataFrame(class_info)\n",
    "df_label_made = pd.DataFrame({ \"image_name\" : label_made})\n",
    "\n",
    "df_class_info.to_excel(\"df_class_info.xlsx\", index=False)\n",
    "df_label_made.to_excel(\"df_label_made.xlsx\", index=False)\n",
    "df_class_info, df_label_made"
   ]
  },
  {
   "cell_type": "markdown",
   "metadata": {},
   "source": [
    "4. 안전장구가 없는 이미지는 삭제"
   ]
  },
  {
   "cell_type": "code",
   "execution_count": null,
   "metadata": {},
   "outputs": [],
   "source": [
    "# img_file_list = os.listdir(img_path)\n",
    "# del_cnt = 0\n",
    "# for img in img_file_list:\n",
    "#     if img not in label_made:\n",
    "#         this_img_path = img_path + img\n",
    "#         os.remove(this_img_path)"
   ]
  },
  {
   "cell_type": "markdown",
   "metadata": {},
   "source": [
    "5. 데이터셋 분할(test, validataion)"
   ]
  },
  {
   "cell_type": "code",
   "execution_count": null,
   "metadata": {},
   "outputs": [],
   "source": [
    "df_class_info = pd.read_excel(\"df_class_info.xlsx\")\n",
    "df_label_made = pd.read_excel(\"df_label_made.xlsx\")"
   ]
  },
  {
   "cell_type": "code",
   "execution_count": 39,
   "metadata": {},
   "outputs": [
    {
     "data": {
      "text/html": [
       "<div>\n",
       "<style scoped>\n",
       "    .dataframe tbody tr th:only-of-type {\n",
       "        vertical-align: middle;\n",
       "    }\n",
       "\n",
       "    .dataframe tbody tr th {\n",
       "        vertical-align: top;\n",
       "    }\n",
       "\n",
       "    .dataframe thead th {\n",
       "        text-align: right;\n",
       "    }\n",
       "</style>\n",
       "<table border=\"1\" class=\"dataframe\">\n",
       "  <thead>\n",
       "    <tr style=\"text-align: right;\">\n",
       "      <th></th>\n",
       "      <th>class_no</th>\n",
       "      <th>class_org_no</th>\n",
       "      <th>class_name</th>\n",
       "      <th>image_cnt</th>\n",
       "    </tr>\n",
       "  </thead>\n",
       "  <tbody>\n",
       "    <tr>\n",
       "      <th>0</th>\n",
       "      <td>0</td>\n",
       "      <td>1</td>\n",
       "      <td>belt</td>\n",
       "      <td>38328</td>\n",
       "    </tr>\n",
       "    <tr>\n",
       "      <th>1</th>\n",
       "      <td>1</td>\n",
       "      <td>2</td>\n",
       "      <td>no belt</td>\n",
       "      <td>41541</td>\n",
       "    </tr>\n",
       "    <tr>\n",
       "      <th>2</th>\n",
       "      <td>2</td>\n",
       "      <td>4</td>\n",
       "      <td>gori not fasten</td>\n",
       "      <td>8867</td>\n",
       "    </tr>\n",
       "    <tr>\n",
       "      <th>3</th>\n",
       "      <td>3</td>\n",
       "      <td>5</td>\n",
       "      <td>footgear</td>\n",
       "      <td>48142</td>\n",
       "    </tr>\n",
       "    <tr>\n",
       "      <th>4</th>\n",
       "      <td>4</td>\n",
       "      <td>6</td>\n",
       "      <td>no footgear</td>\n",
       "      <td>456</td>\n",
       "    </tr>\n",
       "    <tr>\n",
       "      <th>5</th>\n",
       "      <td>5</td>\n",
       "      <td>7</td>\n",
       "      <td>helmet</td>\n",
       "      <td>65416</td>\n",
       "    </tr>\n",
       "    <tr>\n",
       "      <th>6</th>\n",
       "      <td>6</td>\n",
       "      <td>8</td>\n",
       "      <td>no helmet</td>\n",
       "      <td>1579</td>\n",
       "    </tr>\n",
       "  </tbody>\n",
       "</table>\n",
       "</div>"
      ],
      "text/plain": [
       "   class_no  class_org_no       class_name  image_cnt\n",
       "0         0             1             belt      38328\n",
       "1         1             2          no belt      41541\n",
       "2         2             4  gori not fasten       8867\n",
       "3         3             5         footgear      48142\n",
       "4         4             6      no footgear        456\n",
       "5         5             7           helmet      65416\n",
       "6         6             8        no helmet       1579"
      ]
     },
     "execution_count": 39,
     "metadata": {},
     "output_type": "execute_result"
    }
   ],
   "source": [
    "df_class_info"
   ]
  },
  {
   "cell_type": "code",
   "execution_count": 58,
   "metadata": {},
   "outputs": [
    {
     "name": "stderr",
     "output_type": "stream",
     "text": [
      "100%|██████████| 42292/42292 [00:06<00:00, 6311.80it/s]"
     ]
    },
    {
     "name": "stdout",
     "output_type": "stream",
     "text": [
      "선별된 이미지 개수 : 4759개\n"
     ]
    },
    {
     "name": "stderr",
     "output_type": "stream",
     "text": [
      "\n"
     ]
    }
   ],
   "source": [
    "#전체 데이터 4만여장 중 1만장만 선정\n",
    "#gori not fasten(2번, 8867개), no footgear(4번, 456개), no helmet(6번, 1579개)은 갯수가 적으므로 적절히 섞어 줌\n",
    "\n",
    "sample_cnt = 4000\n",
    "df_for_sample = df_label_made.sample(frac=1, random_state=1234) #이미지를 랜덤하게 섞어 줌\n",
    "df_for_sample.reset_index(drop=True, inplace=True)\n",
    "samples = []\n",
    "gori_not_fasten_cnt = 0\n",
    "for i in tqdm.trange(len(df_for_sample)):\n",
    "    this_file_name = df_for_sample.iloc[i, 0]\n",
    "    this_label = open(\"{}.txt\".format(label_mod_path + this_file_name.split(\".\")[0]), \"r\").readlines()\n",
    "    this_label_list = [x.split(\"\\t\")[0] for x in this_label]\n",
    "    if \"4\" in this_label_list or \"6\" in this_label_list: #no footgear와 no helmet이 있는 이미지는 모두 선택\n",
    "        if this_file_name not in samples:\n",
    "            samples.append(this_file_name)\n",
    "    if \"2\" in this_label_list: #gori not fasten 이미지는 3천장 정도 넣어줌\n",
    "        gori_not_fasten_cnt += 1\n",
    "        if gori_not_fasten_cnt <= 3000:\n",
    "            if this_file_name not in samples:\n",
    "                samples.append(this_file_name)\n",
    "\n",
    "print(\"선별된 이미지 개수 : {}개\".format(len(samples)))"
   ]
  },
  {
   "cell_type": "code",
   "execution_count": 59,
   "metadata": {},
   "outputs": [
    {
     "name": "stderr",
     "output_type": "stream",
     "text": [
      " 16%|█▌        | 6717/42292 [00:01<00:09, 3682.64it/s]"
     ]
    },
    {
     "name": "stdout",
     "output_type": "stream",
     "text": [
      "최종 선별된 이미지 개수 : 10000개\n"
     ]
    },
    {
     "name": "stderr",
     "output_type": "stream",
     "text": [
      "\n"
     ]
    }
   ],
   "source": [
    "#1만장에서 남은 갯수만큼 뽑아서 넣어줌\n",
    "for i in tqdm.trange(len(df_for_sample)):\n",
    "    this_file_name = df_for_sample.iloc[i, 0]\n",
    "    if this_file_name not in samples:\n",
    "        samples.append(this_file_name)\n",
    "    if len(samples) == sample_cnt:\n",
    "        break\n",
    "\n",
    "df_samples = pd.DataFrame({ \"image_name\" : samples})\n",
    "print(\"최종 선별된 이미지 개수 : {}개\".format(len(samples)))"
   ]
  },
  {
   "cell_type": "code",
   "execution_count": 64,
   "metadata": {},
   "outputs": [
    {
     "data": {
      "text/html": [
       "<div>\n",
       "<style scoped>\n",
       "    .dataframe tbody tr th:only-of-type {\n",
       "        vertical-align: middle;\n",
       "    }\n",
       "\n",
       "    .dataframe tbody tr th {\n",
       "        vertical-align: top;\n",
       "    }\n",
       "\n",
       "    .dataframe thead th {\n",
       "        text-align: right;\n",
       "    }\n",
       "</style>\n",
       "<table border=\"1\" class=\"dataframe\">\n",
       "  <thead>\n",
       "    <tr style=\"text-align: right;\">\n",
       "      <th></th>\n",
       "      <th>image_name</th>\n",
       "    </tr>\n",
       "  </thead>\n",
       "  <tbody>\n",
       "    <tr>\n",
       "      <th>8448</th>\n",
       "      <td>S2-N1105M01782.jpg</td>\n",
       "    </tr>\n",
       "    <tr>\n",
       "      <th>4579</th>\n",
       "      <td>S2-N1105M26218.jpg</td>\n",
       "    </tr>\n",
       "    <tr>\n",
       "      <th>23</th>\n",
       "      <td>S2-N1105M03608.jpg</td>\n",
       "    </tr>\n",
       "    <tr>\n",
       "      <th>2611</th>\n",
       "      <td>S2-N1105M17813.jpg</td>\n",
       "    </tr>\n",
       "    <tr>\n",
       "      <th>3631</th>\n",
       "      <td>S2-O1103M05839.jpg</td>\n",
       "    </tr>\n",
       "    <tr>\n",
       "      <th>...</th>\n",
       "      <td>...</td>\n",
       "    </tr>\n",
       "    <tr>\n",
       "      <th>8153</th>\n",
       "      <td>S2-N1105M02012.jpg</td>\n",
       "    </tr>\n",
       "    <tr>\n",
       "      <th>2537</th>\n",
       "      <td>S2-N1106M29212.jpg</td>\n",
       "    </tr>\n",
       "    <tr>\n",
       "      <th>9655</th>\n",
       "      <td>S2-N1106M14826.jpg</td>\n",
       "    </tr>\n",
       "    <tr>\n",
       "      <th>6496</th>\n",
       "      <td>S2-N1106M16112.jpg</td>\n",
       "    </tr>\n",
       "    <tr>\n",
       "      <th>7996</th>\n",
       "      <td>S2-O1103M06945.jpg</td>\n",
       "    </tr>\n",
       "  </tbody>\n",
       "</table>\n",
       "<p>8000 rows × 1 columns</p>\n",
       "</div>"
      ],
      "text/plain": [
       "              image_name\n",
       "8448  S2-N1105M01782.jpg\n",
       "4579  S2-N1105M26218.jpg\n",
       "23    S2-N1105M03608.jpg\n",
       "2611  S2-N1105M17813.jpg\n",
       "3631  S2-O1103M05839.jpg\n",
       "...                  ...\n",
       "8153  S2-N1105M02012.jpg\n",
       "2537  S2-N1106M29212.jpg\n",
       "9655  S2-N1106M14826.jpg\n",
       "6496  S2-N1106M16112.jpg\n",
       "7996  S2-O1103M06945.jpg\n",
       "\n",
       "[8000 rows x 1 columns]"
      ]
     },
     "execution_count": 64,
     "metadata": {},
     "output_type": "execute_result"
    }
   ],
   "source": [
    "train = df_samples.sample(frac=0.8, random_state=8699)\n",
    "test = df_samples.drop(train.index)\n",
    "train"
   ]
  },
  {
   "cell_type": "code",
   "execution_count": 66,
   "metadata": {},
   "outputs": [
    {
     "name": "stdout",
     "output_type": "stream",
     "text": [
      "트레이닝 데이터셋 복사중...\n"
     ]
    },
    {
     "name": "stderr",
     "output_type": "stream",
     "text": [
      "100%|██████████| 8000/8000 [11:00<00:00, 12.12it/s]\n"
     ]
    },
    {
     "name": "stdout",
     "output_type": "stream",
     "text": [
      "검증 데이터셋 복사중...\n"
     ]
    },
    {
     "name": "stderr",
     "output_type": "stream",
     "text": [
      "100%|██████████| 2000/2000 [02:48<00:00, 11.85it/s]\n"
     ]
    }
   ],
   "source": [
    "print(\"트레이닝 데이터셋 복사중...\")\n",
    "for i in tqdm.trange(len(train)):\n",
    "    this_file_name = train.iloc[i][\"image_name\"].split(\".\")[0]\n",
    "    src = cv2.imread(\"{}{}.jpg\".format(img_path, this_file_name))\n",
    "    resized = cv2.resize(src, (640, 640), interpolation=cv2.INTER_LINEAR)\n",
    "    cv2.imwrite(\"{}/images/{}.jpg\".format(training_dataset_path, this_file_name), resized)\n",
    "    shutil.copyfile(\"{}{}.txt\".format(label_mod_path, this_file_name), \"{}/labels/{}.txt\".format(training_dataset_path, this_file_name))\n",
    "\n",
    "print(\"검증 데이터셋 복사중...\")\n",
    "for i in tqdm.trange(len(test)):\n",
    "    this_file_name = test.iloc[i][\"image_name\"].split(\".\")[0]\n",
    "    src = cv2.imread(\"{}{}.jpg\".format(img_path, this_file_name))\n",
    "    resized = cv2.resize(src, (640, 640), interpolation=cv2.INTER_LINEAR)\n",
    "    cv2.imwrite(\"{}/images/{}.jpg\".format(validation_dataset_path, this_file_name), resized)\n",
    "    shutil.copyfile(\"{}{}.txt\".format(label_mod_path, this_file_name), \"{}/labels/{}.txt\".format(validation_dataset_path, this_file_name))"
   ]
  },
  {
   "cell_type": "markdown",
   "metadata": {},
   "source": [
    "아래 명령어로 트레이닝 실행!\n",
    "\n",
    "python C:\\Users\\poscohrd\\Desktop\\yolo_transfer_learning\\yolov5-master\\train.py --img 640 --batch 16 --epochs 30 --data C:\\Users\\poscohrd\\Desktop\\yolo_transfer_learning\\yolov5-master\\dataset.yaml --weights yolov5m.pt --device 0,1\n",
    "\n",
    "*배치 사이즈가 너무 클 경우 GPU 메모리 에러 발생함 주의할 것"
   ]
  },
  {
   "cell_type": "markdown",
   "metadata": {},
   "source": [
    "학습이 끝나면 아래와 같이 tensorflow 모델로 변환(필요시)\n",
    "\n",
    "python yolov5-master\\export.py --weights yolov5-master\\runs\\train\\exp11\\weights\\best.pt --include pb"
   ]
  }
 ],
 "metadata": {
  "interpreter": {
   "hash": "2c6dbb939c98599c2f8a89d69240c80e607e568cc462a5cd41a10d11b1549f47"
  },
  "kernelspec": {
   "display_name": "Python 3.8.10 ('venv_tf')",
   "language": "python",
   "name": "python3"
  },
  "language_info": {
   "codemirror_mode": {
    "name": "ipython",
    "version": 3
   },
   "file_extension": ".py",
   "mimetype": "text/x-python",
   "name": "python",
   "nbconvert_exporter": "python",
   "pygments_lexer": "ipython3",
   "version": "3.8.10"
  },
  "orig_nbformat": 4
 },
 "nbformat": 4,
 "nbformat_minor": 2
}
