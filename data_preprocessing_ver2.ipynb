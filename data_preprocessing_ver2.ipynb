{
 "cells": [
  {
   "cell_type": "code",
   "execution_count": 115,
   "metadata": {},
   "outputs": [],
   "source": [
    "import os\n",
    "import cv2\n",
    "import json\n",
    "import tqdm\n",
    "import shutil\n",
    "import pandas as pd\n",
    "\n",
    "root_path = r\"E:\\\\pgu_safety_dataset\\\\\"\n",
    "label_path = root_path+r\"org_labels\\\\\"\n",
    "label_mod_path = root_path+r\"mod_labels\\\\\"\n",
    "img_path = root_path+r\"org_images\\\\\"\n",
    "img_mod_path = root_path+r\"mod_images\\\\\"\n",
    "training_dataset_path = root_path+r\"training_dataset\\\\\"\n",
    "validation_dataset_path = root_path+r\"validation_dataset\\\\\"\n",
    "label_file_list = os.listdir(label_path)"
   ]
  },
  {
   "cell_type": "markdown",
   "metadata": {},
   "source": [
    "1. 인창원 데이터셋의 이미지와 바운딩 박스 확인"
   ]
  },
  {
   "cell_type": "code",
   "execution_count": 34,
   "metadata": {},
   "outputs": [],
   "source": [
    "org_label = json.loads(open(label_path+\"label.json\", \"r\").readlines()[0])\n",
    "for idx, label in enumerate(org_label[800:820]):\n",
    "    img = cv2.imread(img_path + label[\"file_name\"])\n",
    "    for bbox in label[\"label\"]:\n",
    "        x1 = int(bbox[\"coord\"][\"x\"] * img.shape[1])\n",
    "        y1 = int(bbox[\"coord\"][\"y\"] * img.shape[0])\n",
    "        x2 = int(bbox[\"coord\"][\"x\"] * img.shape[1]) + int(bbox[\"coord\"][\"width\"] * img.shape[0] *2)\n",
    "        y2 = int(bbox[\"coord\"][\"y\"] * img.shape[0]) + int(bbox[\"coord\"][\"height\"] * img.shape[0])\n",
    "        cv2.rectangle(img, (x1, y1), (x2, y2), (0, 255, 0), 2)\n",
    "        cv2.putText(img, bbox[\"label_name\"], (x1, y1), cv2.FONT_HERSHEY_DUPLEX, 1, (0, 255, 0))\n",
    "    cv2.imshow(\"img\", img)\n",
    "    cv2.waitKey()\n",
    "    cv2.destroyAllWindows()"
   ]
  },
  {
   "cell_type": "markdown",
   "metadata": {},
   "source": [
    "2. 라벨링 txt 파일 생성"
   ]
  },
  {
   "cell_type": "code",
   "execution_count": 117,
   "metadata": {},
   "outputs": [
    {
     "name": "stdout",
     "output_type": "stream",
     "text": [
      "32.png : 라벨파일 생성중...(100.00%)      \r"
     ]
    },
    {
     "data": {
      "text/plain": [
       "[{'class_no': '0', 'class_name': 'no helmet', 'image_cnt': 1671},\n",
       " {'class_no': '1', 'class_name': 'helmet', 'image_cnt': 667}]"
      ]
     },
     "execution_count": 117,
     "metadata": {},
     "output_type": "execute_result"
    }
   ],
   "source": [
    "label_made = []\n",
    "class_number_name = [\"no helmet\", \"helmet\"]\n",
    "class_info = []\n",
    "for idx, class_name in enumerate(class_number_name):\n",
    "    class_info.append({\n",
    "        \"class_no\" : str(idx),\n",
    "        \"class_name\" : class_name,\n",
    "        \"image_cnt\" : 0\n",
    "    })\n",
    "\n",
    "for idx, label in enumerate(org_label):\n",
    "    print(\"{} : 라벨파일 생성중...({:.2f}%)   \".format(label[\"file_name\"], ((idx+1)/len(org_label))*100), end=\"\\r\")\n",
    "    img = cv2.imread(img_path + label[\"file_name\"])\n",
    "    w = img.shape[1]\n",
    "    h = img.shape[0]\n",
    "    label_str = \"\"\n",
    "    for bbox in label[\"label\"]:\n",
    "        if bbox[\"label_name\"] != \"\":\n",
    "            bb_center_x = bbox[\"coord\"][\"center_x\"]\n",
    "            bb_center_y = bbox[\"coord\"][\"center_y\"]\n",
    "            bb_w = bbox[\"coord\"][\"width\"]\n",
    "            bb_h = bbox[\"coord\"][\"height\"]\n",
    "            new_class_no = [x[\"class_no\"] for x in class_info if x[\"class_name\"] == bbox[\"label_name\"]][0]\n",
    "            class_info_idx = [idx for idx, x in enumerate(class_info) if x[\"class_name\"] == bbox[\"label_name\"]][0]\n",
    "            label_str += \"{}\\t{}\\t{}\\t{}\\t{}\\n\".format(new_class_no, bb_center_x, bb_center_y, bb_w, bb_h)\n",
    "            class_info[class_info_idx][\"image_cnt\"] = class_info[class_info_idx][\"image_cnt\"] + 1\n",
    "    if label_str != \"\":\n",
    "        label_made.append(label[\"file_name\"])\n",
    "        label_str = label_str[:-2]\n",
    "        open(label_mod_path + label[\"file_name\"].split(\".\")[0] + \".txt\", \"w\").write(label_str)\n",
    "        shutil.copyfile(img_path+\"\\\\\"+label[\"file_name\"].split(\".\")[0] + \".png\", img_mod_path+label[\"file_name\"].split(\".\")[0] + \".png\")\n",
    "\n",
    "class_info"
   ]
  },
  {
   "cell_type": "markdown",
   "metadata": {},
   "source": [
    "3. 헬멧 데이터 갯수가 1천개 정도 부족. aihub 데이터셋에서 메꿔줌"
   ]
  },
  {
   "cell_type": "code",
   "execution_count": 118,
   "metadata": {},
   "outputs": [
    {
     "name": "stdout",
     "output_type": "stream",
     "text": [
      "S2-N1104M02111.json : 라벨파일 생성중...(99.70%)   \r"
     ]
    }
   ],
   "source": [
    "ai_label_folder = r\"E:\\aihub_safety_dataset\\Training_unziped\\label_factory_org\"\n",
    "ai_image_folder = r\"E:\\aihub_safety_dataset\\Training_unziped\\image_factory\"\n",
    "\n",
    "ai_label_list = os.listdir(ai_label_folder)\n",
    "cnt = 0\n",
    "for label in ai_label_list:\n",
    "    if cnt >= 1000:\n",
    "        break\n",
    "\n",
    "    json_data = json.loads(\"\".join(open(ai_label_folder + \"\\\\\" + label, \"r\", encoding=\"utf-8\").readlines()))\n",
    "    w = json_data[\"image\"][\"resolution\"][0]\n",
    "    h = json_data[\"image\"][\"resolution\"][1]\n",
    "    bbox_infos = [x for x in json_data[\"annotations\"] if x[\"class\"] == \"07\"]\n",
    "    bbox_cnt = 0\n",
    "    if len(bbox_infos) > 0:\n",
    "        print(\"{} : 라벨파일 생성중...({:.2f}%)   \".format(label, (cnt/1000)*100), end=\"\\r\")\n",
    "        label_str = \"\"\n",
    "        for bbox in bbox_infos:\n",
    "            if \"box\" in bbox:\n",
    "                bbox_cnt += 1\n",
    "                bb_center_x = bbox[\"box\"][0] + ((bbox[\"box\"][2] - bbox[\"box\"][0])/2)\n",
    "                bb_center_y = bbox[\"box\"][1] + ((bbox[\"box\"][3] - bbox[\"box\"][1])/2)\n",
    "                bb_w = bbox[\"box\"][2] - bbox[\"box\"][0]\n",
    "                bb_h = bbox[\"box\"][3] - bbox[\"box\"][1]\n",
    "                bb_w_scaled = bb_w/w\n",
    "                bb_h_scaled = bb_h/h\n",
    "                bb_center_x_scaled = bb_center_x/w\n",
    "                bb_center_y_scaled = bb_center_y/h\n",
    "                label_str += \"{}\\t{}\\t{}\\t{}\\t{}\\n\".format(\"1\", bb_center_x_scaled, bb_center_y_scaled, bb_w_scaled, bb_h_scaled)\n",
    "        if label_str != \"\":\n",
    "            label_made.append(json_data[\"image\"][\"filename\"])\n",
    "            label_str = label_str[:-2]\n",
    "            if os.path.isfile(ai_image_folder+\"\\\\\"+json_data[\"image\"][\"filename\"]):\n",
    "                shutil.copyfile(ai_image_folder+\"\\\\\"+json_data[\"image\"][\"filename\"], img_mod_path+json_data[\"image\"][\"filename\"])\n",
    "                open(label_mod_path + json_data[\"image\"][\"filename\"].split(\".\")[0] + \".txt\", \"w\").write(label_str)\n",
    "                class_info[1][\"image_cnt\"] = class_info[1][\"image_cnt\"] + bbox_cnt\n",
    "                cnt += bbox_cnt\n",
    "\n",
    "df_class_info = pd.DataFrame(class_info)\n",
    "df_label_made = pd.DataFrame({ \"image_name\" : label_made})\n",
    "\n",
    "df_class_info.to_excel(\"df_class_info.xlsx\", index=False)\n",
    "df_label_made.to_excel(\"df_label_made.xlsx\", index=False)"
   ]
  },
  {
   "cell_type": "markdown",
   "metadata": {},
   "source": [
    "4. 바운딩박스가 제대로 입력되었는지 확인"
   ]
  },
  {
   "cell_type": "code",
   "execution_count": 121,
   "metadata": {},
   "outputs": [],
   "source": [
    "import random\n",
    "\n",
    "label_list = os.listdir(label_mod_path)\n",
    "for i in range(20):\n",
    "    rand_no = random.randrange(0, len(label_list)-1)\n",
    "    label = open(label_mod_path+label_list[rand_no], \"r\").readlines()\n",
    "    img = cv2.imread(img_mod_path+label_list[rand_no].split(\".\")[0]+\".png\")\n",
    "    if img is None:\n",
    "        img = cv2.imread(img_mod_path+label_list[rand_no].split(\".\")[0]+\".jpg\")\n",
    "    # print(label_list[rand_no])\n",
    "    for bbox_str in label:\n",
    "        bbox = bbox_str.split(\"\\t\")\n",
    "        x1 = int((float(bbox[1]) - (float(bbox[3])/2)) * img.shape[1])\n",
    "        y1 = int((float(bbox[2]) - (float(bbox[4])/2)) * img.shape[0])\n",
    "        x2 = int((float(bbox[1]) + (float(bbox[3])/2)) * img.shape[1])\n",
    "        y2 = int((float(bbox[2]) + (float(bbox[4])/2)) * img.shape[0])\n",
    "        cv2.rectangle(img, (x1, y1), (x2, y2), (0, 255, 0), 2)\n",
    "        cv2.putText(img, bbox[0], (x1, y1), cv2.FONT_HERSHEY_DUPLEX, 1, (0, 255, 0))\n",
    "    cv2.imshow(\"img\", img)\n",
    "    cv2.waitKey()\n",
    "    cv2.destroyAllWindows()"
   ]
  },
  {
   "cell_type": "markdown",
   "metadata": {},
   "source": [
    "5. 데이터셋 분할(test, validataion)"
   ]
  },
  {
   "cell_type": "code",
   "execution_count": 122,
   "metadata": {},
   "outputs": [],
   "source": [
    "df_class_info = pd.read_excel(\"df_class_info.xlsx\")\n",
    "df_label_made = pd.read_excel(\"df_label_made.xlsx\")"
   ]
  },
  {
   "cell_type": "code",
   "execution_count": 123,
   "metadata": {},
   "outputs": [
    {
     "data": {
      "text/html": [
       "<div>\n",
       "<style scoped>\n",
       "    .dataframe tbody tr th:only-of-type {\n",
       "        vertical-align: middle;\n",
       "    }\n",
       "\n",
       "    .dataframe tbody tr th {\n",
       "        vertical-align: top;\n",
       "    }\n",
       "\n",
       "    .dataframe thead th {\n",
       "        text-align: right;\n",
       "    }\n",
       "</style>\n",
       "<table border=\"1\" class=\"dataframe\">\n",
       "  <thead>\n",
       "    <tr style=\"text-align: right;\">\n",
       "      <th></th>\n",
       "      <th>class_no</th>\n",
       "      <th>class_name</th>\n",
       "      <th>image_cnt</th>\n",
       "    </tr>\n",
       "  </thead>\n",
       "  <tbody>\n",
       "    <tr>\n",
       "      <th>0</th>\n",
       "      <td>0</td>\n",
       "      <td>no helmet</td>\n",
       "      <td>1671</td>\n",
       "    </tr>\n",
       "    <tr>\n",
       "      <th>1</th>\n",
       "      <td>1</td>\n",
       "      <td>helmet</td>\n",
       "      <td>1668</td>\n",
       "    </tr>\n",
       "  </tbody>\n",
       "</table>\n",
       "</div>"
      ],
      "text/plain": [
       "   class_no class_name  image_cnt\n",
       "0         0  no helmet       1671\n",
       "1         1     helmet       1668"
      ]
     },
     "execution_count": 123,
     "metadata": {},
     "output_type": "execute_result"
    }
   ],
   "source": [
    "df_class_info"
   ]
  },
  {
   "cell_type": "code",
   "execution_count": 124,
   "metadata": {},
   "outputs": [
    {
     "data": {
      "text/html": [
       "<div>\n",
       "<style scoped>\n",
       "    .dataframe tbody tr th:only-of-type {\n",
       "        vertical-align: middle;\n",
       "    }\n",
       "\n",
       "    .dataframe tbody tr th {\n",
       "        vertical-align: top;\n",
       "    }\n",
       "\n",
       "    .dataframe thead th {\n",
       "        text-align: right;\n",
       "    }\n",
       "</style>\n",
       "<table border=\"1\" class=\"dataframe\">\n",
       "  <thead>\n",
       "    <tr style=\"text-align: right;\">\n",
       "      <th></th>\n",
       "      <th>image_name</th>\n",
       "    </tr>\n",
       "  </thead>\n",
       "  <tbody>\n",
       "    <tr>\n",
       "      <th>0</th>\n",
       "      <td>00_10.png</td>\n",
       "    </tr>\n",
       "    <tr>\n",
       "      <th>1</th>\n",
       "      <td>00_100.png</td>\n",
       "    </tr>\n",
       "    <tr>\n",
       "      <th>2</th>\n",
       "      <td>00_101.png</td>\n",
       "    </tr>\n",
       "    <tr>\n",
       "      <th>3</th>\n",
       "      <td>00_102.png</td>\n",
       "    </tr>\n",
       "    <tr>\n",
       "      <th>4</th>\n",
       "      <td>00_103.png</td>\n",
       "    </tr>\n",
       "    <tr>\n",
       "      <th>...</th>\n",
       "      <td>...</td>\n",
       "    </tr>\n",
       "    <tr>\n",
       "      <th>1974</th>\n",
       "      <td>S2-N1104M02104.jpg</td>\n",
       "    </tr>\n",
       "    <tr>\n",
       "      <th>1975</th>\n",
       "      <td>S2-N1104M02105.jpg</td>\n",
       "    </tr>\n",
       "    <tr>\n",
       "      <th>1976</th>\n",
       "      <td>S2-N1104M02106.jpg</td>\n",
       "    </tr>\n",
       "    <tr>\n",
       "      <th>1977</th>\n",
       "      <td>S2-N1104M02110.jpg</td>\n",
       "    </tr>\n",
       "    <tr>\n",
       "      <th>1978</th>\n",
       "      <td>S2-N1104M02111.jpg</td>\n",
       "    </tr>\n",
       "  </tbody>\n",
       "</table>\n",
       "<p>1979 rows × 1 columns</p>\n",
       "</div>"
      ],
      "text/plain": [
       "              image_name\n",
       "0              00_10.png\n",
       "1             00_100.png\n",
       "2             00_101.png\n",
       "3             00_102.png\n",
       "4             00_103.png\n",
       "...                  ...\n",
       "1974  S2-N1104M02104.jpg\n",
       "1975  S2-N1104M02105.jpg\n",
       "1976  S2-N1104M02106.jpg\n",
       "1977  S2-N1104M02110.jpg\n",
       "1978  S2-N1104M02111.jpg\n",
       "\n",
       "[1979 rows x 1 columns]"
      ]
     },
     "execution_count": 124,
     "metadata": {},
     "output_type": "execute_result"
    }
   ],
   "source": [
    "df_label_made"
   ]
  },
  {
   "cell_type": "code",
   "execution_count": 125,
   "metadata": {},
   "outputs": [
    {
     "data": {
      "text/html": [
       "<div>\n",
       "<style scoped>\n",
       "    .dataframe tbody tr th:only-of-type {\n",
       "        vertical-align: middle;\n",
       "    }\n",
       "\n",
       "    .dataframe tbody tr th {\n",
       "        vertical-align: top;\n",
       "    }\n",
       "\n",
       "    .dataframe thead th {\n",
       "        text-align: right;\n",
       "    }\n",
       "</style>\n",
       "<table border=\"1\" class=\"dataframe\">\n",
       "  <thead>\n",
       "    <tr style=\"text-align: right;\">\n",
       "      <th></th>\n",
       "      <th>image_name</th>\n",
       "    </tr>\n",
       "  </thead>\n",
       "  <tbody>\n",
       "    <tr>\n",
       "      <th>183</th>\n",
       "      <td>00_329.png</td>\n",
       "    </tr>\n",
       "    <tr>\n",
       "      <th>1398</th>\n",
       "      <td>S2-N1104M00555.jpg</td>\n",
       "    </tr>\n",
       "    <tr>\n",
       "      <th>109</th>\n",
       "      <td>00_223.png</td>\n",
       "    </tr>\n",
       "    <tr>\n",
       "      <th>270</th>\n",
       "      <td>00_48.png</td>\n",
       "    </tr>\n",
       "    <tr>\n",
       "      <th>103</th>\n",
       "      <td>00_217.png</td>\n",
       "    </tr>\n",
       "    <tr>\n",
       "      <th>...</th>\n",
       "      <td>...</td>\n",
       "    </tr>\n",
       "    <tr>\n",
       "      <th>1245</th>\n",
       "      <td>30.png</td>\n",
       "    </tr>\n",
       "    <tr>\n",
       "      <th>865</th>\n",
       "      <td>07_29.png</td>\n",
       "    </tr>\n",
       "    <tr>\n",
       "      <th>986</th>\n",
       "      <td>07_75.png</td>\n",
       "    </tr>\n",
       "    <tr>\n",
       "      <th>1429</th>\n",
       "      <td>S2-N1104M00609.jpg</td>\n",
       "    </tr>\n",
       "    <tr>\n",
       "      <th>16</th>\n",
       "      <td>00_126.png</td>\n",
       "    </tr>\n",
       "  </tbody>\n",
       "</table>\n",
       "<p>1583 rows × 1 columns</p>\n",
       "</div>"
      ],
      "text/plain": [
       "              image_name\n",
       "183           00_329.png\n",
       "1398  S2-N1104M00555.jpg\n",
       "109           00_223.png\n",
       "270            00_48.png\n",
       "103           00_217.png\n",
       "...                  ...\n",
       "1245              30.png\n",
       "865            07_29.png\n",
       "986            07_75.png\n",
       "1429  S2-N1104M00609.jpg\n",
       "16            00_126.png\n",
       "\n",
       "[1583 rows x 1 columns]"
      ]
     },
     "execution_count": 125,
     "metadata": {},
     "output_type": "execute_result"
    }
   ],
   "source": [
    "train = df_label_made.sample(frac=0.8, random_state=8699)\n",
    "test = df_label_made.drop(train.index)\n",
    "train"
   ]
  },
  {
   "cell_type": "code",
   "execution_count": 129,
   "metadata": {},
   "outputs": [
    {
     "name": "stdout",
     "output_type": "stream",
     "text": [
      "트레이닝 데이터셋 복사중...\n"
     ]
    },
    {
     "name": "stderr",
     "output_type": "stream",
     "text": [
      "100%|██████████| 1583/1583 [02:11<00:00, 12.04it/s]\n"
     ]
    },
    {
     "name": "stdout",
     "output_type": "stream",
     "text": [
      "검증 데이터셋 복사중...\n"
     ]
    },
    {
     "name": "stderr",
     "output_type": "stream",
     "text": [
      "100%|██████████| 396/396 [00:33<00:00, 11.93it/s]\n"
     ]
    }
   ],
   "source": [
    "print(\"트레이닝 데이터셋 복사중...\")\n",
    "for i in tqdm.trange(len(train)):\n",
    "    this_file_name = train.iloc[i][\"image_name\"]\n",
    "    src = cv2.imread(\"{}{}\".format(img_mod_path, this_file_name))\n",
    "    resized = cv2.resize(src, (640, 640), interpolation=cv2.INTER_LINEAR)\n",
    "    cv2.imwrite(\"{}/images/{}\".format(training_dataset_path, this_file_name), resized)\n",
    "    shutil.copyfile(\"{}{}.txt\".format(label_mod_path, this_file_name.split(\".\")[0]), \"{}/labels/{}.txt\".format(training_dataset_path, this_file_name.split(\".\")[0]))\n",
    "\n",
    "print(\"검증 데이터셋 복사중...\")\n",
    "for i in tqdm.trange(len(test)):\n",
    "    this_file_name = test.iloc[i][\"image_name\"]\n",
    "    src = cv2.imread(\"{}{}\".format(img_mod_path, this_file_name))\n",
    "    resized = cv2.resize(src, (640, 640), interpolation=cv2.INTER_LINEAR)\n",
    "    cv2.imwrite(\"{}/images/{}\".format(validation_dataset_path, this_file_name), resized)\n",
    "    shutil.copyfile(\"{}{}.txt\".format(label_mod_path, this_file_name.split(\".\")[0]), \"{}/labels/{}.txt\".format(validation_dataset_path, this_file_name.split(\".\")[0]))"
   ]
  },
  {
   "cell_type": "markdown",
   "metadata": {},
   "source": [
    "아래 명령어로 트레이닝 실행!\n",
    "\n",
    "python C:\\Users\\poscohrd\\Desktop\\yolo_transfer_learning\\yolov5-master\\train.py --img 640 --batch 16 --epochs 30 --data C:\\Users\\poscohrd\\Desktop\\yolo_transfer_learning\\yolov5-master\\dataset.yaml --weights yolov5m.pt --device 0,1\n",
    "\n",
    "*배치 사이즈가 너무 클 경우 GPU 메모리 에러 발생함 주의할 것"
   ]
  },
  {
   "cell_type": "markdown",
   "metadata": {},
   "source": [
    "학습이 끝나면 아래와 같이 tensorflow 모델로 변환(필요시)\n",
    "\n",
    "python yolov5-master\\export.py --weights yolov5-master\\runs\\train\\exp11\\weights\\best.pt --include pb"
   ]
  }
 ],
 "metadata": {
  "interpreter": {
   "hash": "2c6dbb939c98599c2f8a89d69240c80e607e568cc462a5cd41a10d11b1549f47"
  },
  "kernelspec": {
   "display_name": "Python 3.8.10 ('venv_tf')",
   "language": "python",
   "name": "python3"
  },
  "language_info": {
   "codemirror_mode": {
    "name": "ipython",
    "version": 3
   },
   "file_extension": ".py",
   "mimetype": "text/x-python",
   "name": "python",
   "nbconvert_exporter": "python",
   "pygments_lexer": "ipython3",
   "version": "3.8.10"
  },
  "orig_nbformat": 4
 },
 "nbformat": 4,
 "nbformat_minor": 2
}
